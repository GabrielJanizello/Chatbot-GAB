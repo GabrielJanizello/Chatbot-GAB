{
  "nbformat": 4,
  "nbformat_minor": 0,
  "metadata": {
    "colab": {
      "provenance": [],
      "authorship_tag": "ABX9TyMlqq9rxuy7fxUp87LjyKrz",
      "include_colab_link": true
    },
    "kernelspec": {
      "name": "python3",
      "display_name": "Python 3"
    },
    "language_info": {
      "name": "python"
    }
  },
  "cells": [
    {
      "cell_type": "markdown",
      "metadata": {
        "id": "view-in-github",
        "colab_type": "text"
      },
      "source": [
        "<a href=\"https://colab.research.google.com/github/GabrielJanizello/Chatbot-GAB/blob/main/Chatbotgab.ipynb\" target=\"_parent\"><img src=\"https://colab.research.google.com/assets/colab-badge.svg\" alt=\"Open In Colab\"/></a>"
      ]
    },
    {
      "cell_type": "code",
      "source": [
        "!pip install -q -U google-generativeai"
      ],
      "metadata": {
        "collapsed": true,
        "id": "dNxS8pFXfyRa"
      },
      "execution_count": null,
      "outputs": []
    },
    {
      "cell_type": "code",
      "source": [
        "import os\n",
        "import google.generativeai as genai\n",
        "from google.colab import userdata\n",
        "import textwrap\n",
        "from IPython.display import Markdown, display\n",
        "\n",
        "#configurando chave API\n",
        "try:\n",
        "  api_key = userdata.get('GOOGLE_API_KEY')\n",
        "  genai.configure(api_key=api_key)\n",
        "  print(\"Chave de API configurada com SUCESSO!\")\n",
        "except userdata.SecretNotFoundError:\n",
        "  print(\"ERRO: O segredo 'GOOGLE_API_KEY' não foi encontrado.\")\n",
        "  print(\"Por favor, adicione sua chave na aba 'Secrets' (ícone de chave) à esquerda.\")\n",
        "except Exception as e:\n",
        "  print(f\"Ocorreu um erro durante a configuração da chave de API: {e}\")"
      ],
      "metadata": {
        "colab": {
          "base_uri": "https://localhost:8080/"
        },
        "id": "JhONBqLchViQ",
        "outputId": "758fffd5-0013-4b5d-9a32-86d35c313f8e"
      },
      "execution_count": null,
      "outputs": [
        {
          "output_type": "stream",
          "name": "stdout",
          "text": [
            "Chave de API configurada com SUCESSO!\n"
          ]
        }
      ]
    },
    {
      "cell_type": "code",
      "source": [
        "system_instruction = (\n",
        "  \"Você é um chatbot chamado Gab. Sua personalidade é carismática e você sempre entrega respostas objetivas.\"\n",
        ")\n",
        "\n",
        "model = genai.GenerativeModel(\n",
        "    model_name='gemini-1.5-flash-latest',\n",
        "    system_instruction=system_instruction\n",
        ")"
      ],
      "metadata": {
        "id": "y6AIA1S5pO1E"
      },
      "execution_count": null,
      "outputs": []
    },
    {
      "cell_type": "code",
      "source": [
        "#início do chat\n",
        "chat = model.start_chat(history=[])\n",
        "\n",
        "def to_markdown(text):\n",
        "  text = text.replace('•', '  *')\n",
        "  return Markdown(textwrap.indent(text, '> ', predicate=lambda _: True))\n",
        "\n",
        "print(\"=\"*50)\n",
        "print(\"🤖 Chat com o Gab iniciado!\")\n",
        "print(\"Digite 'sair' a qualquer momento para encerrar o chat.\")\n",
        "print(\"=\"*50)\n",
        "\n",
        "print(\"\\nChatbot Gab:\")\n",
        "display(to_markdown(\"Olá, eu sou o Chatbot Gab!\"))\n",
        "\n",
        "prompt = input('Como posso ajudar? --> ').strip().lower()\n",
        "\n",
        "while prompt !='sair':\n",
        "  try:\n",
        "    #responsável por enviar a mensagem para o chat\n",
        "    resposta = chat.send_message(prompt)\n",
        "\n",
        "    #responsável por exibir a resposta formatada\n",
        "    print(\"\\nChatbot Gab:\")\n",
        "    display(to_markdown(resposta.text))\n",
        "\n",
        "  except Exception as e:\n",
        "    #trata o erro caso a API falhe ao invés de só encerrar o programa\n",
        "    print(f'\\n Desculpe, ocorreu um erro ao processar sua mensagem: {e}')\n",
        "\n",
        "  print(\"-\"*50)\n",
        "  prompt = input('Algo mais? --> ').strip().lower()\n",
        "\n",
        "print(\"\\n👋 Chat encerrado. até mais!\")\n",
        "\n",
        "print(\"=\"*50)\n",
        "print(\"🤖 Chat com o Gab encerrado!\")\n",
        "print(\"=\"*50)"
      ],
      "metadata": {
        "colab": {
          "base_uri": "https://localhost:8080/",
          "height": 206
        },
        "id": "o-Sth4QiqDO4",
        "outputId": "7d0d9562-fa92-4501-f970-97a0edb665c2"
      },
      "execution_count": null,
      "outputs": [
        {
          "metadata": {
            "tags": null
          },
          "name": "stdout",
          "output_type": "stream",
          "text": [
            "==================================================\n",
            "🤖 Chat com o Gab iniciado!\n",
            "Digite 'sair' a qualquer momento para encerrar o chat.\n",
            "==================================================\n",
            "\n",
            "Chatbot Gab:\n"
          ]
        },
        {
          "data": {
            "text/markdown": "> Olá, eu sou o Chatbot Gab!",
            "text/plain": [
              "<IPython.core.display.Markdown object>"
            ]
          },
          "metadata": {},
          "output_type": "display_data"
        }
      ]
    }
  ]
}